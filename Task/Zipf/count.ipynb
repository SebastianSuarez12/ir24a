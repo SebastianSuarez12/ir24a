{
 "cells": [
  {
   "cell_type": "code",
   "execution_count": 2,
   "metadata": {},
   "outputs": [],
   "source": [
    "import fitz  # PyMuPDF\n",
    "\n",
    "def pdf_to_text(pdf_path, txt_path):\n",
    "    # Abre el archivo PDF\n",
    "    pdf_document = fitz.open(pdf_path)\n",
    "    \n",
    "    # Abre el archivo de texto en modo escritura\n",
    "    with open(txt_path, 'w', encoding='utf-8') as txt_file:\n",
    "        # Itera sobre cada página del PDF\n",
    "        for page_num in range(pdf_document.page_count):\n",
    "            # Obtén la página\n",
    "            page = pdf_document.load_page(page_num)\n",
    "            \n",
    "            # Extrae el texto de la página\n",
    "            text = page.get_text(\"text\")\n",
    "            \n",
    "            # Escribe el texto extraído en el archivo de texto\n",
    "            txt_file.write(text)\n",
    "            \n",
    "    # Cierra el archivo PDF\n",
    "    pdf_document.close()\n",
    "\n",
    "# Ejemplo de uso\n",
    "pdf_path = 'El_nino.pdf'\n",
    "txt_path = 'archivo.txt'\n",
    "pdf_to_text(pdf_path, txt_path)\n"
   ]
  },
  {
   "cell_type": "code",
   "execution_count": 8,
   "metadata": {},
   "outputs": [
    {
     "name": "stdout",
     "output_type": "stream",
     "text": [
      "Frecuencias de palabras guardadas en 'frecuencia_palabras.txt'\n"
     ]
    }
   ],
   "source": [
    "from collections import Counter\n",
    "import re\n",
    "\n",
    "# Función para limpiar y contar palabras\n",
    "def contar_palabras(texto):\n",
    "    # Convertir a minúsculas y eliminar caracteres no alfabéticos\n",
    "    texto_limpio = re.sub(r'[^a-záéíóúñü\\s]', '', texto.lower())\n",
    "    palabras = texto_limpio.split()\n",
    "    \n",
    "    # Contar la frecuencia de cada palabra\n",
    "    contador = Counter(palabras)\n",
    "    \n",
    "    return contador\n",
    "\n",
    "# Leer el archivo txt\n",
    "nombre_archivo = 'archivo.txt'  # Reemplaza con el nombre de tu archivo\n",
    "\n",
    "with open(nombre_archivo, 'r', encoding='utf-8') as archivo:\n",
    "    texto = archivo.read()\n",
    "\n",
    "# Contar palabras en el texto proporcionado\n",
    "frecuencia_palabras = contar_palabras(texto)\n",
    "\n",
    "# Escribir las frecuencias en un archivo de salida\n",
    "with open('frecuencia_palabras.txt', 'w', encoding='utf-8') as salida:\n",
    "    for palabra, frecuencia in frecuencia_palabras.items():\n",
    "        salida.write(f\"{palabra}: {frecuencia}\\n\")\n",
    "\n",
    "print(\"Frecuencias de palabras guardadas en 'frecuencia_palabras.txt'\")\n"
   ]
  },
  {
   "cell_type": "code",
   "execution_count": 10,
   "metadata": {},
   "outputs": [
    {
     "name": "stdout",
     "output_type": "stream",
     "text": [
      "Frecuencias de palabras guardadas en 'frecuencia_palabras.xlsx'\n"
     ]
    }
   ],
   "source": [
    "import pandas as pd\n",
    "from collections import Counter\n",
    "import re\n",
    "\n",
    "# Función para limpiar y contar palabras\n",
    "def contar_palabras(texto):\n",
    "    # Convertir a minúsculas y eliminar caracteres no alfabéticos\n",
    "    texto_limpio = re.sub(r'[^a-záéíóúñü\\s]', '', texto.lower())\n",
    "    palabras = texto_limpio.split()\n",
    "    \n",
    "    # Contar la frecuencia de cada palabra\n",
    "    contador = Counter(palabras)\n",
    "    \n",
    "    return contador\n",
    "\n",
    "# Leer el archivo txt\n",
    "nombre_archivo = 'archivo.txt'  # Reemplaza con el nombre de tu archivo\n",
    "\n",
    "with open(nombre_archivo, 'r', encoding='utf-8') as archivo:\n",
    "    texto = archivo.read()\n",
    "\n",
    "# Contar palabras en el texto proporcionado\n",
    "frecuencia_palabras = contar_palabras(texto)\n",
    "\n",
    "# Crear un DataFrame de pandas con las frecuencias de palabras\n",
    "df_frecuencias = pd.DataFrame(frecuencia_palabras.items(), columns=['Palabra', 'Frecuencia'])\n",
    "\n",
    "# Guardar el DataFrame en un archivo Excel\n",
    "nombre_excel = 'frecuencia_palabras.xlsx'\n",
    "df_frecuencias.to_excel(nombre_excel, index=False)\n",
    "\n",
    "print(f\"Frecuencias de palabras guardadas en '{nombre_excel}'\")\n"
   ]
  },
  {
   "cell_type": "code",
   "execution_count": 16,
   "metadata": {},
   "outputs": [
    {
     "name": "stdout",
     "output_type": "stream",
     "text": [
      "Frecuencias de palabras guardadas en 'frecuencia_palabras_filtradas.xlsx'\n"
     ]
    }
   ],
   "source": [
    "import pandas as pd\n",
    "from collections import Counter\n",
    "import re\n",
    "\n",
    "# Lista de stop words en español\n",
    "stop_words = {'de', 'la', 'que', 'el', 'en', 'y', 'a', 'los', 'del', 'se', 'las', 'por', 'un', 'para', 'con', 'no', 'una', 'su', 'al', 'lo', 'como', 'más', 'pero', 'sus', 'le', 'ya', 'o', 'este', 'sí', 'porque', 'esta', 'entre', 'cuando', 'muy', 'sin', 'sobre', 'también', 'me', 'hasta', 'hay', 'donde', 'quien', 'desde', 'todo', 'nos', 'durante', 'todos', 'uno', 'les', 'ni', 'contra', 'otros', 'ese', 'eso', 'ante', 'ellos', 'e', 'esto', 'mí', 'antes', 'algunos', 'qué', 'unos', 'yo', 'otro', 'otras', 'otra', 'él', 'tanto', 'esa', 'estos', 'mucho', 'quienes', 'nada', 'muchos', 'cual', 'poco', 'ella', 'estar', 'estas', 'algunas', 'algo', 'nosotros', 'mi', 'mis', 'tú', 'te', 'ti', 'tu', 'tus', 'ellas', 'nosotras', 'vosotros', 'vosotras', 'os', 'mío', 'mía', 'míos', 'mías', 'tuyo', 'tuya', 'tuyos', 'tuyas', 'suyo', 'suya', 'suyos', 'suyas', 'nuestro', 'nuestra', 'nuestros', 'nuestras', 'vuestro', 'vuestra', 'vuestros', 'vuestras', 'esos', 'esas', 'estoy', 'estás', 'está', 'estamos', 'estáis', 'están', 'esté', 'estés', 'estemos', 'estéis', 'estén', 'estaré', 'estarás', 'estará', 'estaremos', 'estaréis', 'estarán', 'estaría', 'estarías', 'estaríamos', 'estaríais', 'estarían', 'estaba', 'estabas', 'estábamos', 'estabais', 'estaban', 'estuve', 'estuviste', 'estuvo', 'estuvimos', 'estuvisteis', 'estuvieron', 'estuviera', 'estuvieras', 'estuviéramos', 'estuvierais', 'estuvieran', 'estuviese', 'estuvieses', 'estuviésemos', 'estuvieseis', 'estuviesen', 'estando', 'estado', 'estada', 'estados', 'estadas', 'estad', 'he', 'has', 'ha', 'hemos', 'habéis', 'han', 'haya', 'hayas', 'hayamos', 'hayáis', 'hayan', 'habré', 'habrás', 'habrá', 'habremos', 'habréis', 'habrán', 'habría', 'habrías', 'habríamos', 'habríais', 'habrían', 'había', 'habías', 'habíamos', 'habíais', 'habían', 'hube', 'hubiste', 'hubo', 'hubimos', 'hubisteis', 'hubieron', 'hubiera', 'hubieras', 'hubiéramos', 'hubierais', 'hubieran', 'hubiese', 'hubieses', 'hubiésemos', 'hubieseis', 'hubiesen', 'habiendo', 'habido', 'habida', 'habidos', 'habidas', 'soy', 'eres', 'es', 'somos', 'sois', 'son', 'sea', 'seas', 'seamos', 'seáis', 'sean', 'seré', 'serás', 'será', 'seremos', 'seréis', 'serán', 'sería', 'serías', 'seríamos', 'seríais', 'serían', 'era', 'eras', 'éramos', 'erais', 'eran', 'fui', 'fuiste', 'fue', 'fuimos', 'fuisteis', 'fueron', 'fuera', 'fueras', 'fuéramos', 'fuerais', 'fueran', 'fuese', 'fueses', 'fuésemos', 'fueseis', 'fuesen', 'sintiendo', 'sentido', 'sentida', 'sentidos', 'sentidas', 'siente', 'sentid', 'tengo', 'tienes', 'tiene', 'tenemos', 'tenéis', 'tienen', 'tenga', 'tengas', 'tengamos', 'tengáis', 'tengan', 'tendré', 'tendrás', 'tendrá', 'tendremos', 'tendréis', 'tendrán', 'tendría', 'tendrías', 'tendríamos', 'tendríais', 'tendrían', 'tenía', 'tenías', 'teníamos', 'teníais', 'tenían', 'tuve', 'tuviste', 'tuvo', 'tuvimos', 'tuvisteis', 'tuvieron', 'tuviera', 'tuvieras', 'tuviéramos', 'tuvierais', 'tuvieran', 'tuviese', 'tuvieses', 'tuviésemos', 'tuvieseis', 'tuviesen', 'teniendo', 'tenido', 'tenida', 'tenidos', 'tenidas', 'tened'}\n",
    "\n",
    "# Función para limpiar y contar palabras, eliminando stop words\n",
    "def contar_palabras(texto):\n",
    "    # Convertir a minúsculas y eliminar caracteres no alfabéticos\n",
    "    texto_limpio = re.sub(r'[^a-záéíóúñü\\s]', '', texto.lower())\n",
    "    palabras = texto_limpio.split()\n",
    "    \n",
    "    # Filtrar stop words\n",
    "    palabras_filtradas = [palabra for palabra in palabras if palabra not in stop_words]\n",
    "    \n",
    "    # Contar la frecuencia de cada palabra\n",
    "    contador = Counter(palabras_filtradas)\n",
    "    \n",
    "    return contador\n",
    "\n",
    "# Leer el archivo txt\n",
    "nombre_archivo = 'archivo.txt'  # Reemplaza con el nombre de tu archivo\n",
    "\n",
    "with open(nombre_archivo, 'r', encoding='utf-8') as archivo:\n",
    "    texto = archivo.read()\n",
    "\n",
    "# Contar palabras en el texto proporcionado eliminando stop words\n",
    "frecuencia_palabras = contar_palabras(texto)\n",
    "\n",
    "# Crear un DataFrame de pandas con las frecuencias de palabras\n",
    "df_frecuencias = pd.DataFrame(frecuencia_palabras.items(), columns=['Palabra', 'Frecuencia'])\n",
    "\n",
    "# Guardar el DataFrame en un archivo Excel\n",
    "nombre_excel = 'frecuencia_palabras_filtradas.xlsx'\n",
    "df_frecuencias.to_excel(nombre_excel, index=False)\n",
    "\n",
    "print(f\"Frecuencias de palabras guardadas en '{nombre_excel}'\")\n"
   ]
  },
  {
   "cell_type": "code",
   "execution_count": null,
   "metadata": {},
   "outputs": [],
   "source": []
  }
 ],
 "metadata": {
  "kernelspec": {
   "display_name": "Python 3",
   "language": "python",
   "name": "python3"
  },
  "language_info": {
   "codemirror_mode": {
    "name": "ipython",
    "version": 3
   },
   "file_extension": ".py",
   "mimetype": "text/x-python",
   "name": "python",
   "nbconvert_exporter": "python",
   "pygments_lexer": "ipython3",
   "version": "3.8.10"
  }
 },
 "nbformat": 4,
 "nbformat_minor": 2
}
