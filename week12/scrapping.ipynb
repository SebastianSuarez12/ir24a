{
 "cells": [
  {
   "cell_type": "code",
   "execution_count": 1,
   "metadata": {},
   "outputs": [],
   "source": [
    "from bs4 import BeautifulSoup\n",
    "import pandas as pd"
   ]
  },
  {
   "cell_type": "code",
   "execution_count": null,
   "metadata": {},
   "outputs": [],
   "source": [
    "with open('data/Chicken Noodle Salad Recipe.html', 'r', encoding='utf-8') as file:\n",
    "    content = file.read()"
   ]
  },
  {
   "cell_type": "code",
   "execution_count": null,
   "metadata": {},
   "outputs": [],
   "source": [
    "soup = BeautifulSoup(content, 'html.parser')"
   ]
  },
  {
   "cell_type": "code",
   "execution_count": null,
   "metadata": {},
   "outputs": [],
   "source": [
    "soup"
   ]
  },
  {
   "cell_type": "code",
   "execution_count": null,
   "metadata": {},
   "outputs": [],
   "source": [
    "soup.find('p', class_= 'article-subheading type--dog')"
   ]
  },
  {
   "cell_type": "code",
   "execution_count": null,
   "metadata": {},
   "outputs": [],
   "source": [
    "description = soup.find('p', class_= 'article-subheading type--dog').text"
   ]
  },
  {
   "cell_type": "code",
   "execution_count": null,
   "metadata": {},
   "outputs": [],
   "source": [
    "description"
   ]
  },
  {
   "cell_type": "code",
   "execution_count": null,
   "metadata": {},
   "outputs": [],
   "source": [
    "soup.find(\"meta\", {\"property\": \"og:title\"})['content']"
   ]
  },
  {
   "cell_type": "code",
   "execution_count": null,
   "metadata": {},
   "outputs": [],
   "source": [
    "for item in soup.find_all(\"p\", class_= \"comp mntl-sc-block mntl-sc-block-html\"):\n",
    "    print(item.text.strip())\n",
    "    steps = item.text.strip()"
   ]
  },
  {
   "cell_type": "code",
   "execution_count": null,
   "metadata": {},
   "outputs": [],
   "source": [
    "for item in soup.find_all(\"li\", class_= \"mm-recipes-structured-ingredients__list-item\"):\n",
    "    print(item.text.strip())\n",
    "    ingredients = item.text.strip()"
   ]
  },
  {
   "cell_type": "code",
   "execution_count": 2,
   "metadata": {},
   "outputs": [],
   "source": [
    "filepath = 'data/Chicken Noodle Salad Recipe.html'"
   ]
  },
  {
   "cell_type": "code",
   "execution_count": 3,
   "metadata": {},
   "outputs": [],
   "source": [
    "with open(filepath, 'r', encoding='utf-8') as file:\n",
    "    content = file.read()"
   ]
  },
  {
   "cell_type": "code",
   "execution_count": 4,
   "metadata": {},
   "outputs": [],
   "source": [
    "def getInformation(soup):\n",
    "\n",
    "    description = soup.find('p', class_= 'article-subheading type--dog').text\n",
    "\n",
    "    title = soup.find(\"meta\", {\"property\": \"og:title\"})['content']\n",
    "\n",
    "    steps = []\n",
    "    for item in soup.find_all(\"p\", class_= \"comp mntl-sc-block mntl-sc-block-html\"):\n",
    "        steps.append(item.text.strip())\n",
    "    steps = ' '.join(steps)\n",
    "\n",
    "    ingredients = []\n",
    "    for item in soup.find_all(\"li\", class_= \"mm-recipes-structured-ingredients__list-item\"):\n",
    "        ingredients.append(item.text.strip())\n",
    "    ingredients = ', '.join(ingredients)\n",
    "\n",
    "    return {\n",
    "        'Description': description,\n",
    "        'Title': title,\n",
    "        'Steps': steps,\n",
    "        'Ingredients': ingredients\n",
    "    }\n"
   ]
  },
  {
   "cell_type": "code",
   "execution_count": 5,
   "metadata": {},
   "outputs": [],
   "source": [
    "soup = BeautifulSoup(content, 'html.parser')"
   ]
  },
  {
   "cell_type": "code",
   "execution_count": 6,
   "metadata": {},
   "outputs": [],
   "source": [
    "info = getInformation(soup)"
   ]
  },
  {
   "cell_type": "code",
   "execution_count": 7,
   "metadata": {},
   "outputs": [
    {
     "data": {
      "text/plain": [
       "{'Description': \"Get ready to make all sorts of \\nfriends when you bring a big bowl of this Asian chicken noodle salad to \\nthe next big cookout. The only folks you might scare away are the ones \\nwho brought regular pasta salads. There's just something delightfully \\naddictive about this special combination of cold and spicy. This recipe \\nis the perfect catchall for all those summer vegetables we're supposed \\nto be eating more of, as well as any dry leftover chicken you have \\naround.\",\n",
       " 'Title': 'Chicken Noodle Salad',\n",
       " 'Steps': \"Whisk garlic, rice vinegar, soy sauce, fish sauce, brown sugar, \\nSriracha, hoisin, and sesame oil together in a mixing bowl for the \\ndressing. Tear chicken apart into strands similar in width to the spaghetti. Refrigerate until ready to use. Bring a large pot of lightly salted water to a boil. Cook spaghetti in \\nthe boiling water, stirring occasionally, until tender yet firm to the \\nbite, about 12 minutes. Drain and rinse with cold water. Transfer spaghetti to a mixing bowl; add the chicken, carrots, bell \\npepper, and green onions. Pour in the dressing and toss by hand until \\nwell combined. Seal the surface of the salad with plastic wrap and \\nrefrigerate, tossing occasionally, for 2 to 12 hours, the longer the \\nbetter. Add peanuts, basil, mint, and cilantro to the salad. Toss well; taste and adjust for seasoning. If you don't have leftover chicken, watch this video for Lighter Chicken Fettuccine Alfredo and follow the directions to make a great poached chicken breast. For best results, use a mandolin to julienne the carrots.\",\n",
       " 'Ingredients': '3 cloves garlic, crushed, ½ cup seasoned rice vinegar, 1 tablespoon soy sauce, 1 tablespoon fish sauce, 1 tablespoon brown sugar, 1 tablespoon Sriracha chile sauce, 1 tablespoon hoisin sauce, 1 teaspoon sesame oil, 1  cooked chicken breast, 1 (8 ounce) package spaghetti, 1 cup grated carrots, 1  red bell pepper, thinly sliced, 4  green onions, thinly sliced, ½ cup chopped roasted, salted peanuts, ⅓ cup chopped fresh basil, ⅓ cup chopped fresh mint, ⅓ cup chopped cilantro'}"
      ]
     },
     "execution_count": 7,
     "metadata": {},
     "output_type": "execute_result"
    }
   ],
   "source": [
    "info"
   ]
  },
  {
   "cell_type": "code",
   "execution_count": null,
   "metadata": {},
   "outputs": [],
   "source": []
  }
 ],
 "metadata": {
  "kernelspec": {
   "display_name": "Python 3",
   "language": "python",
   "name": "python3"
  },
  "language_info": {
   "codemirror_mode": {
    "name": "ipython",
    "version": 3
   },
   "file_extension": ".py",
   "mimetype": "text/x-python",
   "name": "python",
   "nbconvert_exporter": "python",
   "pygments_lexer": "ipython3",
   "version": "3.8.10"
  }
 },
 "nbformat": 4,
 "nbformat_minor": 2
}
