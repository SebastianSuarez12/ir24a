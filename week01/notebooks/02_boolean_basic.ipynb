{
 "cells": [
  {
   "cell_type": "markdown",
   "id": "3678b6ceab34c216",
   "metadata": {
    "collapsed": false
   },
   "source": [
    "# Basic Boolean Search in Documents\n",
    "\n",
    "## Objective\n",
    "Expand the simple term search functionality to include Boolean search capabilities. This will allow users to perform more complex queries by combining multiple search terms using Boolean operators.\n",
    "\n",
    "## Problem Description\n",
    "You must enhance the existing search engine from the previous exercise to support Boolean operators: AND, OR, and NOT. This will enable the retrieval of documents based on the logical relationships between multiple terms.\n",
    "\n",
    "## Requirements\n",
    "\n",
    "### Step 1: Update Data Preparation\n",
    "Ensure that the documents are still loaded and preprocessed from the previous task. The data should be clean and ready for advanced querying.\n",
    "\n",
    "### Step 2: Create an Inverted Index\n",
    "\n",
    "Create an inverted index from the documents. This index maps each word to the set of document IDs in which that word appears. This facilitates word lookup in the search process.\n",
    "\n",
    "### Step 3: Query Processing\n",
    "- **Parse the Query**: Implement a function to parse the input query to identify the terms and operators.\n",
    "- **Search Documents**: Based on the parsed query, implement the logic to retrieve and rank the documents according to the Boolean expressions.\n",
    "\n",
    "### Step 4: Displaying Results\n",
    "- **Output the Results**: Display the documents that match the query criteria. Include functionalities to handle queries that result in no matching documents.\n",
    "\n",
    "## Evaluation Criteria\n",
    "- **Correctness**: The Boolean search implementation should correctly interpret and process the queries according to the Boolean logic.\n",
    "- **Efficiency**: Consider the efficiency of your search process, especially as the complexity of queries increases.\n",
    "- **User Experience**: Ensure that the interface for inputting queries and viewing results is user-friendly.\n",
    "\n",
    "This exercise will deepen your understanding of how search engines process and respond to user queries."
   ]
  },
  {
   "cell_type": "code",
   "execution_count": null,
   "id": "initial_id",
   "metadata": {
    "collapsed": true
   },
   "outputs": [],
   "source": [
    "import os\n",
    "\n",
    "# Path to the folder containing the .txt files\n",
    "folder_path = '../data/'\n",
    "\n",
    "# Initialize variables\n",
    "book_names = []\n",
    "unique_words = set()\n",
    "\n",
    "# Process each .txt file\n",
    "for file_name in os.listdir(folder_path):\n",
    "  if file_name.endswith('.txt'):\n",
    "    file_path = os.path.join(folder_path, file_name)\n",
    "    with open(file_path, 'r') as file:\n",
    "      words_list = set(file.read().split())\n",
    "      book_names.append(file_name)\n",
    "      unique_words.update(words_list)\n",
    "\n",
    "# Sort unique words for consistency\n",
    "unique_words_list = sorted(list(unique_words))\n",
    "\n",
    "# Create the matrix\n",
    "num_books = len(book_names)\n",
    "num_words = len(unique_words_list)\n",
    "matrix = [[0] * num_words for _ in range(num_books)]\n",
    "\n",
    "# Populate the matrix\n",
    "for i, file_name in enumerate(os.listdir(folder_path)):\n",
    " if file_name.endswith('.txt'):\n",
    "  file_path = os.path.join(folder_path, file_name)\n",
    "  with open(file_path, 'r') as file:\n",
    "    words_list = set(file.read().split())\n",
    "for word in words_list:\n",
    " if word in unique_words_list:\n",
    "  word_index = unique_words_list.index(word)\n",
    "  matrix[i][word_index] = 1\n"
   ]
  },
  {
   "cell_type": "code",
   "execution_count": null,
   "id": "8fed272b",
   "metadata": {},
   "outputs": [],
   "source": [
    "import csv\n",
    "\n",
    "# Agregar los nombres de los libros a la matriz transpuesta\n",
    "transposed_matrix.insert(0, [''] + book_names)\n",
    "\n",
    "# Nombre del archivo CSV para guardar la matriz\n",
    "csv_file = 'matriz-Finalcsv'\n",
    "\n",
    "# Abrir el archivo CSV en modo de escritura\n",
    "with open(csv_file, 'w', newline='') as file:\n",
    " writer = csv.writer(file)\n",
    "\n",
    " # Escribir el contenido de la matriz transpuesta en el archivo CSV\n",
    " writer.writerows(transposed_matrix)\n"
   ]
  }
 ],
 "metadata": {
  "kernelspec": {
   "display_name": "Python 3",
   "language": "python",
   "name": "python3"
  },
  "language_info": {
   "codemirror_mode": {
    "name": "ipython",
    "version": 2
   },
   "file_extension": ".py",
   "mimetype": "text/x-python",
   "name": "python",
   "nbconvert_exporter": "python",
   "pygments_lexer": "ipython2",
   "version": "2.7.6"
  }
 },
 "nbformat": 4,
 "nbformat_minor": 5
}
