{
 "cells": [
  {
   "cell_type": "markdown",
   "id": "87a197ffb621d407",
   "metadata": {
    "collapsed": false
   },
   "source": [
    "# Term Search in Documents\n",
    "\n",
    "## Objective\n",
    "The goal of this exercise is to develop a simple information retrieval system that allows the user to search for a specific term across a set of text documents. This will introduce you to the basics of text processing and searching algorithms in the context of information retrieval.\n",
    "\n",
    "## Problem Description\n",
    "You are provided with a set of text documents. Your task is to implement a search function that:\n",
    "- Takes a user-inputted term as the query.\n",
    "- Searches for this term across all the provided documents.\n",
    "- Returns a list of documents where the term appears.\n",
    "\n",
    "## Requirements\n",
    "\n",
    "### Step 1: Preparing the Data\n",
    "- **Load the Documents**: You will start by loading the text documents into your program. These documents can be in plain text format stored in a directory.\n",
    "- **Read Each Document**: Implement a function to read each document and store its contents in a data structure of your choice (e.g., a list).\n",
    "\n",
    "### Step 2: Implementing the Search\n",
    "- **Input Query**: Implement a function to accept a query term from the user.\n",
    "- **Search Function**: Create a function that:\n",
    "  - Iterates through each document.\n",
    "  - Checks if the query term appears in the document.\n",
    "  - You may choose to implement case-insensitive search to improve user experience.\n",
    "- **Return Results**: The function should return the names or identifiers of the documents where the term is found.\n",
    "\n",
    "### Step 3: Displaying Results\n",
    "- **Output the Results**: For each search query, output the results in a user-friendly format, listing the documents where the term was found, or a message indicating that the term does not appear in any document.\n",
    "\n",
    "## Evaluation Criteria\n",
    "- **Correctness**: The search function should accurately identify documents containing the term.\n",
    "- **Efficiency**: While efficiency may not be critical for small datasets, consider the efficiency of your search algorithm.\n",
    "- **Usability**: The interface for inputting search terms and viewing results should be clear and easy to use.\n",
    "\n",
    "## Additional Challenges (Optional)\n",
    "- **Enhance the search functionality**: Allow for more complex queries, such as phrases or multiple terms.\n",
    "- **Improve the search with regular expressions**: Use regex for pattern matching to enhance the flexibility of the search.\n",
    "- **Implement a simple ranking system**: Rank the documents based on the frequency of the term within each document.\n",
    "\n",
    "This exercise will help you understand the fundamental mechanisms behind storing and retrieving data in the field of information retrieval. By the end of this task, you will have a basic prototype that mimics core functions of larger, more complex search engines.\n"
   ]
  },
  {
   "cell_type": "code",


   "execution_count": 3,
   "id": "initial_id",
   "metadata": {
    "collapsed": true,
    "ExecuteTime": {
     "end_time": "2024-04-29T22:35:15.650248Z",
     "start_time": "2024-04-29T22:35:15.575067Z"
    }
   },
   "outputs": [],
   "source": [
    "word = input('Input the word that you want to search')"
   ]
  },
  {
   "cell_type": "code",
   "execution_count": 2,
   "id": "15d84a22",
   "metadata": {},
   "outputs": [
    {
     "name": "stdout",
     "output_type": "stream",
     "text": [

      "pray\n"
     ]
    }
   ],
   "source": [
    "print(word)"
   ]
  },
  {
   "cell_type": "code",
   "execution_count": 3,
   "id": "622529db",
   "metadata": {},
   "outputs": [
    {
     "name": "stdout",
     "output_type": "stream",
     "text": [
      "The word: pray was found in total of 85 times\n",
      "The word was found on the books: \n",
      "0   A Room with a View.txt\n",
      "1   Chronicles of London Bridge.txt\n",
      "2   The Enchanted April.txt\n",
      "3   Moby Dick.txt\n",
      "4   A Christmas Carol in Prose Being a Ghost Story of Christmas.txt\n",
      "5   Ulysses.txt\n",
      "6   The Brothers Karamazov.txt\n",
      "7   Jane Eyre- An Autobiography.txt\n",
      "8   The star-stealers.txt\n",
      "9   A Study in Scarlet.txt\n",
      "10   Cambridge Papers.txt\n",
      "11   War and Peace.txt\n",
      "12   Childe Harold's Pilgrimage.txt\n",
      "13   The Kama Sutra of Vatsyayana.txt\n",
      "14   Don Quixote.txt\n",
      "15   My Life — Volume 1.txt\n",
      "16   The Prince.txt\n",
      "17   Great Expectations.txt\n",
      "18   The divine comedy.txt\n",
      "19   Twenty years after.txt\n",
      "20   The modern Prometheus.txt\n",
      "21   A Tale of Two Cities.txt\n",
      "22   The First Duke and Duchess of Newcastle-upon-Tyne.txt\n",
      "23   Peter Pan.txt\n",
      "24   The Expedition of Humphry Clinker.txt\n",
      "25   The Reign of Greed.txt\n",
      "26   The Wonderful Wizard of Oz.txt\n",
      "27   Standard Selections.txt\n",
      "28   Crime and Punishment.txt\n",
      "29   Notes from the Underground.txt\n",
      "30   Heart of Darkness.txt\n",
      "31   The Modern Regime, Volume 1.txt\n",
      "32   Leviathan.txt\n",
      "33   The Strange Case of Dr. Jekyll and Mr. Hyde.txt\n",
      "34   The Romance of Lust A classic Victorian erotic novel.txt\n",
      "35   The Scarlet Letter.txt\n",
      "36   Anne of Green Gables.txt\n",
      "37   Cranford.txt\n",
      "38   Ang  Filibusterismo  (Karugtóng ng Noli Me Tangere).txt\n",
      "39   he Adventures of Sherlock Holmes.txt\n",
      "40   The Works of the Rev.txt\n",
      "41   A Short History of English Agriculture.txt\n",
      "42   Frankenstein.txt\n",
      "43   Kentucky in American Letters.txt\n",
      "44   Treasure Island.txt\n",
      "45   The Iliad.txt\n",
      "46   History of Woman Suffrage, Volume III.txt\n",
      "47   Dracula.txt\n",
      "48   The Souls of Black Folk.txt\n",
      "49   The Complete Works of William Shakespeare.txt\n",
      "50   The Picture of Dorian Gray.txt\n",
      "51   Memoirs of a London doll.txt\n",
      "52   Narrative of the Life of Frederick Douglass.txt\n",
      "53   Don Juan.txt\n",
      "54   Grimms' Fairy Tales.txt\n",
      "55   Dubliners.txt\n",
      "56   Pride and Prejudice.txt\n",
      "57   Pygmalion.txt\n",
      "58   Wuthering Heights.txt\n",
      "59   History of Tom Jones, a Foundling.txt\n",
      "60   lato and the Other Companions of Sokrates.txt\n",
      "61   Biographical Anecdotes of William Hogarth, With a Catalogue of His Works.txt\n",
      "62   The Adventures of Tom Sawyer.txt\n",
      "63   Adventures of Huckleberry Finn.txt\n",
      "64   Magazine of western history.txt\n",
      "65   Calculus Made Easy.txt\n",
      "66   Thus Spake Zarathustra A Book for All and None.txt\n",
      "67   The Importance of Being Earnest- A Trivial Comedy for Serious People.txt\n",
      "68   Little Women; Or, Meg, Jo, Beth, and Amy.txt\n",
      "69   The Pleasures of the Table.txt\n",
      "70   The Adventures of Roderick Random.txt\n",
      "71   The Odyssey.txt\n",
      "72   Roget's Thesaurus of English Words and Phrases.txt\n",
      "73   Walden and On The Duty Of Civil Disobedience.txt\n",
      "74   Little Women.txt\n",
      "75   Middlemarch.txt\n",
      "76   A Smaller History of Rome.txt\n",
      "77   The Adventures of Ferdinand Count Fathom — Complete.txt\n",
      "78   The Count of Monte Cristo.txt\n",
      "79   Christopher Columbus and How He Received and Imparted the Spirit of Discovery.txt\n",
      "80   The Hound of the Baskervilles.txt\n",
      "81   Romeo and Juliet.txt\n",
      "82   The Blue Castle- a novel.txt\n",
      "83   The Metamorphoses of Ovid.txt\n",
      "84   The History of Woman Suffrage.txt\n"
     ]
    }
   ],
   "source": [
    "import os\n",
    "\n",
    "# Path to the folder containing the .txt files\n",
    "folder_path = '../data/'\n",
    "\n",
    "# List files in the folder\n",
    "files = os.listdir(folder_path)\n",
    "\n",
    "# Filter .txt files\n",
    "txt_files = [file for file in files if file.endswith('.txt')]\n",
    "\n",
    "# list of books\n",
    "\n",
    "list_books = []\n",
    "count = 0\n",
    "\n",
    "# Process for each .txt file\n",
    "for txt_file in txt_files:\n",
    "    file_path = os.path.join(folder_path, txt_file)\n",
    "    with open(file_path, 'r') as file:\n",
    "        content = file.read()\n",
    "        if word in content:\n",
    "            count +=1\n",
    "            list_books.append(txt_file)\n",
    "\n",
    "print('The word: ' +word+ ' was found in total of ' +str(count)+ ' times')\n",
    "print ('The word was found on the books: ')\n",
    "\n",
    "for i in range(len(list_books)):\n",
    "    print(i, ' ' , list_books[i])"
   ]
  }
 ],
 "metadata": {
  "kernelspec": {
   "display_name": "Python 3",
   "language": "python",
   "name": "python3"
  },
  "language_info": {
   "codemirror_mode": {
    "name": "ipython",
    "version": 3
   },
   "file_extension": ".py",
   "mimetype": "text/x-python",
   "name": "python",
   "nbconvert_exporter": "python",
   "pygments_lexer": "ipython3",
   "version": "3.8.10"
  }
 },
 "nbformat": 4,
 "nbformat_minor": 5
}
