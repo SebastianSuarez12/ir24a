{
 "cells": [
  {
   "cell_type": "markdown",
   "id": "3678b6ceab34c216",
   "metadata": {
    "collapsed": false
   },
   "source": [
    "# Boolean Search in Documents\n",
    "\n",
    "## Objective\n",
    "Expand the simple term search functionality to include Boolean search capabilities. This will allow users to perform more complex queries by combining multiple search terms using Boolean operators.\n",
    "\n",
    "## Problem Description\n",
    "You must enhance the existing search engine from the previous exercise to support Boolean operators: AND, OR, and NOT. This will enable the retrieval of documents based on the logical relationships between multiple terms.\n",
    "\n",
    "## Requirements\n",
    "\n",
    "### Step 1: Update Data Preparation\n",
    "Ensure that the documents are still loaded and preprocessed from the previous task. The data should be clean and ready for advanced querying."
   ]
  },
  {
   "cell_type": "code",
   "execution_count": 1,
   "id": "initial_id",
   "metadata": {
    "collapsed": true
   },
   "outputs": [],
   "source": [
    "import os\n",
    "\n",
    "# Path to the folder containing the .txt files\n",
    "folder_path = '../data/'\n",
    "\n",
    "# Initialize variables\n",
    "book_names = []\n",
    "unique_words = set()\n",
    "\n",
    "# Process each .txt file\n",
    "for file_name in os.listdir(folder_path):\n",
    "  if file_name.endswith('.txt'):\n",
    "    file_path = os.path.join(folder_path, file_name)\n",
    "    with open(file_path, 'r') as file:\n",
    "      words_list = set(file.read().split())\n",
    "      book_names.append(file_name)\n",
    "      unique_words.update(words_list)\n",
    "\n",
    "# Sort unique words for consistency\n",
    "unique_words_list = sorted(list(unique_words))"
   ]
  },
  {
   "cell_type": "markdown",
   "id": "82321dfe",
   "metadata": {},
   "source": [
    "### Step 2: Create an Inverted Index\n",
    "\n",
    "Create an inverted index from the documents. This index maps each word to the set of document IDs in which that word appears. This facilitates word lookup in the search process."
   ]
  },
  {
   "cell_type": "code",
   "execution_count": 2,
   "id": "ba0fd2af",
   "metadata": {},
   "outputs": [],
   "source": [
    "import pandas as pd\n",
    "import os\n",
    "\n",
    "# List to store book names and word data\n",
    "books = []\n",
    "word_data = []\n",
    "\n",
    "# Path to the folder containing .txt files\n",
    "folder = '../data/'\n",
    "\n",
    "# Iterate through files in the folder\n",
    "for file_name in os.listdir(folder):\n",
    "    file_path = os.path.join(folder, file_name)\n",
    "    with open(file_path, 'r') as file:\n",
    "        # Read the content of the file and add the book name\n",
    "        content = file.read()\n",
    "        books.append(file_name)\n",
    "            \n",
    "        # Create a set of words for the current book\n",
    "        words_book = set(content.split())\n",
    "            \n",
    "        # Create a list of boolean values indicating the presence of each word in the first book\n",
    "        word_presence = [word in words_book for word in unique_words_list]\n",
    "        word_data.append(word_presence)\n",
    "\n",
    "# Create a DataFrame from the word data\n",
    "df = pd.DataFrame(word_data, columns=unique_words_list)\n",
    "\n",
    "\n",
    "# Add the book name as the first column of the DataFrame\n",
    "df.insert(0, 'Bookss', books)\n",
    "\n",
    "# Set the \"Bookss\" column as the index of the DataFrame\n",
    "df.set_index('Bookss', inplace=True)\n",
    "\n",
    "# transpose the df\n",
    "df = df.transpose()"
   ]
  },
  {
   "cell_type": "markdown",
   "id": "ceb2b537",
   "metadata": {},
   "source": [
    "### Step 3: Implementing Boolean Search\n",
    "- **Enhance Input Query**: Modify the function to accept complex queries that can include the Boolean operators AND, OR, and NOT.\n",
    "- **Implement Boolean Logic**:\n",
    "  - **AND**: The document must contain all the terms. For example, `python AND programming` should return documents containing both \"python\" and \"programming\".\n",
    "  - **OR**: The document can contain any of the terms. For example, `python OR programming` should return documents containing either \"python\", \"programming\", or both.\n",
    "  - **NOT**: The document must not contain the term following NOT. For example, `python NOT snake` should return documents that contain \"python\" but not \"snake\"."
   ]
  },
  {
   "cell_type": "code",
   "execution_count": 3,
   "id": "985c6294",
   "metadata": {},
   "outputs": [],
   "source": [
    "def booleanSearch(word1, word2, operation):\n",
    "    books_with_word = []\n",
    "\n",
    "    if operation == 'AND':\n",
    "        print('Operation AND')\n",
    "        for book in df.columns:\n",
    "            if word1 in df.index and word2 in df.index and df.loc[word1, book] and df.loc[word2, book]:\n",
    "                books_with_word.append(book)\n",
    "        return books_with_word\n",
    "\n",
    "    elif operation == 'OR':\n",
    "        print('Operation OR')\n",
    "        for book in df.columns:\n",
    "            if word1 in df.index and word2 in df.index and (df.loc[word1, book] or df.loc[word2, book]):\n",
    "                books_with_word.append(book)\n",
    "        return books_with_word\n",
    "\n",
    "    elif operation == 'NOT':\n",
    "        print('Operation NOT')\n",
    "        for book in df.columns:\n",
    "            if word1 in df.index and word2 in df.index and df.loc[word1, book] and not df.loc[word2, book]:\n",
    "                books_with_word.append(book)\n",
    "        return books_with_word\n",
    "\n",
    "    else:\n",
    "        print('The operation is invalid')"
   ]
  },
  {
   "cell_type": "markdown",
   "id": "9b3b4ed8",
   "metadata": {},
   "source": [
    "### Step 4: Query Processing\n",
    "- **Parse the Query**: Implement a function to parse the input query to identify the terms and operators.\n",
    "- **Search Documents**: Based on the parsed query, implement the logic to retrieve and rank the documents according to the Boolean expressions.\n",
    "- **Handling Case Sensitivity and Partial Matches**: Optionally, you can handle cases and partial matches to refine the search results."
   ]
  },
  {
   "cell_type": "code",
   "execution_count": 4,
   "id": "c355b762",
   "metadata": {},
   "outputs": [
    {
     "name": "stdout",
     "output_type": "stream",
     "text": [
      "Operation AND\n"
     ]
    }
   ],
   "source": [
    "word1 = input('Enter the first word')\n",
    "word2 = input('Enter the second word')\n",
    "operation = input('Enter the operation that you want to do: ')\n",
    "operation = operation.upper()\n",
    "\n",
    "result = booleanSearch(word1, word2, operation)"
   ]
  },
  {
   "cell_type": "markdown",
   "id": "a64a880e",
   "metadata": {},
   "source": [
    "### Step 5: Displaying Results\n",
    "- **Output the Results**: Display the documents that match the query criteria. Include functionalities to handle queries that result in no matching documents."
   ]
  },
  {
   "cell_type": "code",
   "execution_count": 5,
   "id": "8b8525f0",
   "metadata": {},
   "outputs": [
    {
     "name": "stdout",
     "output_type": "stream",
     "text": [
      "The word 'The'  AND the word 'Odyssey' is founds in the following books:\n",
      "Twenty years after.txt\n",
      "The Reign of Greed.txt\n",
      "The Iliad.txt\n",
      "lato and the Other Companions of Sokrates.txt\n",
      "The Odyssey.txt\n",
      "Walden and On The Duty Of Civil Disobedience.txt\n",
      "A Smaller History of Rome.txt\n"
     ]
    }
   ],
   "source": [
    "# Show the books where the word is found\n",
    "if result and operation == 'AND':\n",
    "    print(f\"The word '{word1}'  AND the word '{word2}' is founds in the following books:\")\n",
    "    for book in result:\n",
    "            print(book)\n",
    "elif result and operation == 'OR':\n",
    "    print(f\"The word '{word1}'  OR the word '{word2}' is founds in the following books:\")\n",
    "    for book in result:\n",
    "            print(book)\n",
    "elif result and operation == 'NOT':\n",
    "    print(f\"The word '{word1}'  NOT the word '{word2}' is founds in the following books:\")\n",
    "    for book in result:\n",
    "            print(book)\n"
   ]
  },
  {
   "cell_type": "markdown",
   "id": "14933f4e",
   "metadata": {},
   "source": [
    "## Evaluation Criteria\n",
    "- **Correctness**: The Boolean search implementation should correctly interpret and process the queries according to the Boolean logic.\n",
    "- **Efficiency**: Consider the efficiency of your search process, especially as the complexity of queries increases.\n",
    "- **User Experience**: Ensure that the interface for inputting queries and viewing results is user-friendly.\n",
    "\n",
    "## Additional Challenges (Optional)\n",
    "- **Nested Boolean Queries**: Allow for nested queries using parentheses, such as `(python OR java) AND programming`.\n",
    "- **Phrase Searching**: Implement the ability to search for exact phrases enclosed in quotes.\n",
    "- **Proximity Searching**: Extend the search to find terms that are within a specific distance from one another.\n",
    "\n",
    "This exercise will deepen your understanding of how search engines process and respond to complex user queries. By incorporating Boolean search, you not only enhance the functionality of your search engine but also mimic more closely how real-world information retrieval systems operate."
   ]
  }
 ],
 "metadata": {
  "kernelspec": {
   "display_name": "Python 3",
   "language": "python",
   "name": "python3"
  },
  "language_info": {
   "codemirror_mode": {
    "name": "ipython",
    "version": 3
   },
   "file_extension": ".py",
   "mimetype": "text/x-python",
   "name": "python",
   "nbconvert_exporter": "python",
   "pygments_lexer": "ipython3",
   "version": "3.8.10"
  }
 },
 "nbformat": 4,
 "nbformat_minor": 5
}
